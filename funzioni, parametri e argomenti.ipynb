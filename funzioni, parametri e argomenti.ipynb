{
  "nbformat": 4,
  "nbformat_minor": 0,
  "metadata": {
    "colab": {
      "name": "Un benvenuto a Colaboratory",
      "provenance": [],
      "collapsed_sections": [],
      "toc_visible": true,
      "include_colab_link": true
    },
    "kernelspec": {
      "display_name": "Python 3",
      "name": "python3"
    }
  },
  "cells": [
    {
      "cell_type": "markdown",
      "metadata": {
        "id": "view-in-github",
        "colab_type": "text"
      },
      "source": [
        "<a href=\"https://colab.research.google.com/github/thorodim/PythonP./blob/main/funzioni%2C%20parametri%20e%20argomenti.ipynb\" target=\"_parent\"><img src=\"https://colab.research.google.com/assets/colab-badge.svg\" alt=\"Open In Colab\"/></a>"
      ]
    },
    {
      "cell_type": "code",
      "metadata": {
        "id": "6U3J9cGRLfUH"
      },
      "source": [
        "def print_tre_volte(): #creazione funzione senza parametri\r\n",
        "  print('ciao')\r\n",
        "  print('ciao una seconda volta')\r\n",
        "  print('ciao una terza volta')"
      ],
      "execution_count": 4,
      "outputs": []
    },
    {
      "cell_type": "code",
      "metadata": {
        "id": "arVtEpknMHFJ",
        "outputId": "cd53c4db-7774-4055-e76e-34659b889783",
        "colab": {
          "base_uri": "https://localhost:8080/"
        }
      },
      "source": [
        "print_tre_volte() #richiamo funzione e quindi esecuzione"
      ],
      "execution_count": 6,
      "outputs": [
        {
          "output_type": "stream",
          "text": [
            "ciao\n",
            "ciao una seconda volta\n",
            "ciao una terza volta\n"
          ],
          "name": "stdout"
        }
      ]
    },
    {
      "cell_type": "code",
      "metadata": {
        "id": "CLQCk9CLMTgA"
      },
      "source": [
        "def sommatrice(a,b): #qui ci sono i parametri (ovvero le variabili)\r\n",
        "  print('questa è la funzione somma')\r\n",
        "  print('fornisce la somma di due numeri passati come parametri')\r\n",
        "  risultato = a + b #i numeri dati, si chiamano argomenti\r\n",
        "  print('il risultato della somma è ' + str(risultato))\r\n"
      ],
      "execution_count": 7,
      "outputs": []
    },
    {
      "cell_type": "code",
      "metadata": {
        "id": "FyTOHmFIMy6B",
        "outputId": "8bda0b75-2510-4021-ae9e-cced3f616873",
        "colab": {
          "base_uri": "https://localhost:8080/"
        }
      },
      "source": [
        "sommatrice(15,5) #richiamo funzione con argomenti nei parametri"
      ],
      "execution_count": 9,
      "outputs": [
        {
          "output_type": "stream",
          "text": [
            "questa è la funzione somma\n",
            "fornisce la somma di due numeri passati come parametri\n",
            "il risultato della somma è20\n"
          ],
          "name": "stdout"
        }
      ]
    },
    {
      "cell_type": "code",
      "metadata": {
        "id": "vk6XEK2zNKfJ"
      },
      "source": [
        "def laptop_nuovo (ram,cpu,antivirus = False):\r\n",
        "  print('il nuovo laptot avrà le seguenti caratteristiche: ')\r\n",
        "  print('Ram:' + ram)\r\n",
        "  print('cpu:' + cpu)\r\n",
        "  if antivirus == True:\r\n",
        "    print('hai comprato anche un antivirus')"
      ],
      "execution_count": 13,
      "outputs": []
    },
    {
      "cell_type": "code",
      "metadata": {
        "id": "THmVjVRFNfEY",
        "outputId": "0d318cc0-3a18-40a7-fdf2-44bf40abfc44",
        "colab": {
          "base_uri": "https://localhost:8080/"
        }
      },
      "source": [
        "laptop_nuovo(\"16gb\",\"i7\",antivirus=True)"
      ],
      "execution_count": 15,
      "outputs": [
        {
          "output_type": "stream",
          "text": [
            "il nuovo laptot avrà le seguenti caratteristiche: \n",
            "Ram:16gb\n",
            "cpu:i7\n",
            "hai comprato anche un antivirus\n"
          ],
          "name": "stdout"
        }
      ]
    }
  ]
}