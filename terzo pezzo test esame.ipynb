{
  "nbformat": 4,
  "nbformat_minor": 0,
  "metadata": {
    "colab": {
      "name": "Un benvenuto a Colaboratory",
      "provenance": [],
      "collapsed_sections": [],
      "toc_visible": true,
      "include_colab_link": true
    },
    "kernelspec": {
      "display_name": "Python 3",
      "name": "python3"
    }
  },
  "cells": [
    {
      "cell_type": "markdown",
      "metadata": {
        "id": "view-in-github",
        "colab_type": "text"
      },
      "source": [
        "<a href=\"https://colab.research.google.com/github/thorodim/PythonP./blob/main/terzo%20pezzo%20test%20esame.ipynb\" target=\"_parent\"><img src=\"https://colab.research.google.com/assets/colab-badge.svg\" alt=\"Open In Colab\"/></a>"
      ]
    },
    {
      "cell_type": "code",
      "metadata": {
        "id": "AXd8_K8OvNJX"
      },
      "source": [
        "def congiunzione(var1,var2,logic):\r\n",
        "  if logic == 'Boole':\r\n",
        "   return var1 and var2\r\n",
        "  else:\r\n",
        "    return min (var1, var2)\r\n",
        "\r\n",
        "def disgiunzione(var1,var2,logica):\r\n",
        " if logica == 'Boole':\r\n",
        "  return var1 or var2\r\n",
        " else:\r\n",
        "   return max(var1, var2)\r\n",
        "\r\n",
        "def implicazione(var1,var2,logica):\r\n",
        "  if logica == 'Boole':\r\n",
        "   return int (not var1 or var2)\r\n",
        "  else:\r\n",
        "    return min(1, 1 - var1 + var2)\r\n",
        "\r\n",
        "def equivalenza(var1,var2,logica):\r\n",
        "  if logica == 'Boole':\r\n",
        "   return int (not ((not var1 and var2) or (var1 and not var2)))\r\n",
        "  else:\r\n",
        "    return  1 - abs(var1 - var2)\r\n",
        "\r\n",
        "def negazione(var1,logica):\r\n",
        "  if logica == 'Boole':\r\n",
        "    return int (not var1)\r\n",
        "  else:\r\n",
        "    return 1 - int (var1)"
      ],
      "execution_count": 36,
      "outputs": []
    },
    {
      "cell_type": "code",
      "metadata": {
        "id": "MhYi60RZwGzt"
      },
      "source": [
        "def stampa_tabella(formula):\r\n",
        "  valori = (0,1)\r\n",
        "  logic = input('Dammi La logica da Considerare --> Boole, Lukasiewicz: ')\r\n",
        "  while logic != 'Boole' and logic != 'Lukasiewicz':\r\n",
        "    print('La Logica Selezionata non è valida')\r\n",
        "    logic = input('Dammi La logica da Considerare --> Boole, Lukasiewicz: ')\r\n",
        "  if formula == 'negazione':\r\n",
        "    for A in valori:\r\n",
        "      print(f'{A} | {eval(formula+\"(A,logic)\")}')\r\n",
        "  else:\r\n",
        "   for A in valori:\r\n",
        "    for B in valori:\r\n",
        "      print(f' {A} | {B} | {eval(formula+\"(A,B,logic)\")}')"
      ],
      "execution_count": 39,
      "outputs": []
    },
    {
      "cell_type": "code",
      "metadata": {
        "colab": {
          "base_uri": "https://localhost:8080/"
        },
        "id": "EGLZJrGiwKpq",
        "outputId": "e582ab92-dab9-4cc9-820d-c24639606ca9"
      },
      "source": [
        "risposta = 'si'\r\n",
        "while risposta == 'si':\r\n",
        "  operazione = input('Quale Operazione Vuoi Effettuare? ---> congiunzione, disgiunzione, implicazione, equivalenza, negazione: ')\r\n",
        "  stampa_tabella(operazione)\r\n",
        "  risposta = input('Vuoi Effettuare Un\\'altra Operazione? ---> si, no ---> ')\r\n",
        "print('Arrivederci!')\r\n"
      ],
      "execution_count": 40,
      "outputs": [
        {
          "output_type": "stream",
          "text": [
            "Quale Operazione Vuoi Effettuare? ---> congiunzione, disgiunzione, implicazione, equivalenza, negazione: congiunzione\n",
            "Dammi La logica da Considerare --> Boole, Lukasiewicz Boole\n",
            " 0 | 0 | 0\n",
            " 0 | 1 | 0\n",
            " 1 | 0 | 0\n",
            " 1 | 1 | 1\n",
            "Vuoi Effettuare Un'altra Operazione? ---> si, no: no\n",
            "Arrivederci!\n"
          ],
          "name": "stdout"
        }
      ]
    }
  ]
}