{
  "nbformat": 4,
  "nbformat_minor": 0,
  "metadata": {
    "colab": {
      "name": "Un benvenuto a Colaboratory",
      "provenance": [],
      "collapsed_sections": [],
      "toc_visible": true,
      "include_colab_link": true
    },
    "kernelspec": {
      "display_name": "Python 3",
      "name": "python3"
    }
  },
  "cells": [
    {
      "cell_type": "markdown",
      "metadata": {
        "id": "view-in-github",
        "colab_type": "text"
      },
      "source": [
        "<a href=\"https://colab.research.google.com/github/thorodim/PythonP./blob/main/calcolatrice%20incompleta.ipynb\" target=\"_parent\"><img src=\"https://colab.research.google.com/assets/colab-badge.svg\" alt=\"Open In Colab\"/></a>"
      ]
    },
    {
      "cell_type": "code",
      "metadata": {
        "colab": {
          "base_uri": "https://localhost:8080/"
        },
        "id": "_Jd22S4wOVst",
        "outputId": "fc2745d1-ab75-442f-f0b7-65ef59ffb4c3"
      },
      "source": [
        "print('''\r\n",
        "Benvenuto Nella Calcolatrice!\r\n",
        "Creata da Angelo.\r\n",
        "Di seguito le operazioni disponibili:\r\n",
        "-- Per addizione seleziona 1\r\n",
        "-- Per sottrazione seleziona 2\r\n",
        "-- Per moltiplicazione seleziona 3\r\n",
        "-- Per divisione seleziona 4\r\n",
        "-- Per calcolo esponenziale seleziona 5\r\n",
        "-- Per Uscire premi ESC.\r\n",
        "''')\r\n",
        "scelta = input('Inserisci il numero per l\\'operazione da effettuare ')\r\n",
        "if scelta == \"1\":\r\n",
        "  print('\\nAddizione\\n') # ----> newline\r\n",
        "  a = float (input('inserisci il primo numero '))\r\n",
        "  b = float (input('inserisci il secondo numero '))\r\n",
        "  print('il risultato della somma è: ' +str (a + b)) #addizione\r\n",
        "elif scelta == \"2\":\r\n",
        "  print('\\nSottrazione\\n') # ----> newline\r\n",
        "  a = float (input('inserisci il primo numero '))\r\n",
        "  b = float (input('inserisci il secondo numero '))\r\n",
        "  print('il risultato della sottrazione è: ' +str (a - b)) #sottrazione\r\n",
        "elif  scelta == \"3\":\r\n",
        "  print('\\nMoltiplicazione\\n') # ----> newline\r\n",
        "  a = float (input('inserisci il primo numero '))\r\n",
        "  b = float (input('inserisci il secondo numero '))\r\n",
        "  print('il risultato della moltiplicazione è: ' +str (a * b)) #moltiplicazione\r\n",
        "elif scelta == \"4\":\r\n",
        "  print('\\nDivisione\\n') # ----> newline\r\n",
        "  a = float (input('inserisci il primo numero '))\r\n",
        "  b = float (input('inserisci il secondo numero '))\r\n",
        "  print('il risultato della divisione è: ' +str (a / b)) #divisione\r\n",
        "elif scelta == \"5\":\r\n",
        "  print('\\nCalcolo Esponenziale\\n') # ----> newline\r\n",
        "  a = float (input('inserisci la base '))\r\n",
        "  b = float (input('inserisci l\\'esponente '))\r\n",
        "  print('il risultato del calcolo esponenziale è: ' +str (a ** b)) #calcolo esponenziale ---> ** ----> elevato a\r\n",
        "elif scelta == \"ESC\":\r\n",
        "  print('Adieu!')\r\n",
        "  \r\n",
        "  "
      ],
      "execution_count": 54,
      "outputs": [
        {
          "output_type": "stream",
          "text": [
            "\n",
            "Benvenuto Nella Calcolatrice!\n",
            "Creata da Angelo.\n",
            "Di seguito le operazioni disponibili:\n",
            "-- Per addizione seleziona 1\n",
            "-- Per sottrazione seleziona 2\n",
            "-- Per moltiplicazione seleziona 3\n",
            "-- Per divisione seleziona 4\n",
            "-- Per calcolo esponenziale seleziona 5\n",
            "-- Per Uscire premi ESC.\n",
            "\n",
            "Inserisci il numero per l'operazione da effettuare ESC\n",
            "Adieu!\n"
          ],
          "name": "stdout"
        }
      ]
    }
  ]
}