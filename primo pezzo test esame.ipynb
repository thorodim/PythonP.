{
  "nbformat": 4,
  "nbformat_minor": 0,
  "metadata": {
    "colab": {
      "name": "Un benvenuto a Colaboratory",
      "provenance": [],
      "collapsed_sections": [],
      "toc_visible": true,
      "include_colab_link": true
    },
    "kernelspec": {
      "display_name": "Python 3",
      "name": "python3"
    }
  },
  "cells": [
    {
      "cell_type": "markdown",
      "metadata": {
        "id": "view-in-github",
        "colab_type": "text"
      },
      "source": [
        "<a href=\"https://colab.research.google.com/github/thorodim/PythonP./blob/main/primo%20pezzo%20test%20esame.ipynb\" target=\"_parent\"><img src=\"https://colab.research.google.com/assets/colab-badge.svg\" alt=\"Open In Colab\"/></a>"
      ]
    },
    {
      "cell_type": "code",
      "metadata": {
        "id": "AXd8_K8OvNJX"
      },
      "source": [
        "def congiunzione(var1,var2):\r\n",
        "  return var1 and var2\r\n",
        "\r\n",
        "def disgiunzione(var1,var2):\r\n",
        "  return var1 or var2\r\n",
        "\r\n",
        "def implicazione(ipotesi,tesi):\r\n",
        "  return int (not ipotesi or tesi)\r\n",
        "\r\n",
        "def equivalenza(var1,var2):\r\n",
        "  return int (not var1 and var2) or int (var1 and not var2)"
      ],
      "execution_count": 76,
      "outputs": []
    },
    {
      "cell_type": "code",
      "metadata": {
        "id": "MhYi60RZwGzt"
      },
      "source": [
        "def stampa_tabella(formula):\r\n",
        "  valori = (0, 1)\r\n",
        "  for A in valori:\r\n",
        "    for B in valori:\r\n",
        "      print(f' {A} | {B} | = {formula(A,B)}')"
      ],
      "execution_count": 78,
      "outputs": []
    },
    {
      "cell_type": "code",
      "metadata": {
        "colab": {
          "base_uri": "https://localhost:8080/"
        },
        "id": "EGLZJrGiwKpq",
        "outputId": "5d22cb95-0866-4677-b8cc-a16fb6f02fc9"
      },
      "source": [
        "stampa_tabella(congiunzione)"
      ],
      "execution_count": 81,
      "outputs": [
        {
          "output_type": "stream",
          "text": [
            " 0 | 0 | = 0\n",
            " 0 | 1 | = 0\n",
            " 1 | 0 | = 0\n",
            " 1 | 1 | = 1\n"
          ],
          "name": "stdout"
        }
      ]
    }
  ]
}