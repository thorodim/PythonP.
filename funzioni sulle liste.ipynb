{
  "nbformat": 4,
  "nbformat_minor": 0,
  "metadata": {
    "colab": {
      "name": "Un benvenuto a Colaboratory",
      "provenance": [],
      "collapsed_sections": [],
      "toc_visible": true,
      "include_colab_link": true
    },
    "kernelspec": {
      "display_name": "Python 3",
      "name": "python3"
    }
  },
  "cells": [
    {
      "cell_type": "markdown",
      "metadata": {
        "id": "view-in-github",
        "colab_type": "text"
      },
      "source": [
        "<a href=\"https://colab.research.google.com/github/thorodim/PythonP./blob/main/funzioni%20sulle%20liste.ipynb\" target=\"_parent\"><img src=\"https://colab.research.google.com/assets/colab-badge.svg\" alt=\"Open In Colab\"/></a>"
      ]
    },
    {
      "cell_type": "code",
      "metadata": {
        "id": "okTvDwa1RvT0",
        "outputId": "f517cad6-a5c3-4a1f-9ee7-8d6e613849e0",
        "colab": {
          "base_uri": "https://localhost:8080/"
        }
      },
      "source": [
        "inventario = ['torcia', 'spada', 'arco']\r\n",
        "inventario.append('frecce') #aggiungere elemento alla lista tramite funzione append\r\n",
        "inventario"
      ],
      "execution_count": 1,
      "outputs": [
        {
          "output_type": "execute_result",
          "data": {
            "text/plain": [
              "['torcia', 'spada', 'arco', 'frecce']"
            ]
          },
          "metadata": {
            "tags": []
          },
          "execution_count": 1
        }
      ]
    },
    {
      "cell_type": "code",
      "metadata": {
        "id": "dC6hSTINSEK7",
        "outputId": "d7cc2498-a8d5-404b-8761-056358dd4dab",
        "colab": {
          "base_uri": "https://localhost:8080/"
        }
      },
      "source": [
        "def riempi_inventario(): #funzione per aggiungere elementi alla lista\r\n",
        "  inventario = []\r\n",
        "  while True:\r\n",
        "    oggetto = input('cosa vuoi aggiungere all\\'inventario?')\r\n",
        "    if oggetto == 'terminato':\r\n",
        "      break\r\n",
        "    else:\r\n",
        "      inventario.append(oggetto)\r\n",
        "  print('gli oggetti dell\\'inventario sono: ' + str(inventario))\r\n",
        "riempi_inventario()"
      ],
      "execution_count": 2,
      "outputs": [
        {
          "output_type": "stream",
          "text": [
            "cosa vuoi aggiungere all'inventario?cane\n",
            "cosa vuoi aggiungere all'inventario?gatto\n",
            "cosa vuoi aggiungere all'inventario?terminato\n",
            "gli oggetti dell'inventario sono: ['cane', 'gatto']\n"
          ],
          "name": "stdout"
        }
      ]
    },
    {
      "cell_type": "code",
      "metadata": {
        "id": "j8uyaMKwS2Gb",
        "outputId": "f5c5d36e-b0a5-4cd4-a775-d29cd1a7aead",
        "colab": {
          "base_uri": "https://localhost:8080/"
        }
      },
      "source": [
        "monty = ['spam','eggs','bob','alice','pluto']\r\n",
        "monty.remove('pluto') #per rimuovere valore dalla lista\r\n",
        "monty"
      ],
      "execution_count": 4,
      "outputs": [
        {
          "output_type": "execute_result",
          "data": {
            "text/plain": [
              "['spam', 'eggs', 'bob', 'alice']"
            ]
          },
          "metadata": {
            "tags": []
          },
          "execution_count": 4
        }
      ]
    },
    {
      "cell_type": "code",
      "metadata": {
        "id": "5J8N-hxbTG88",
        "outputId": "4d3ea70e-979b-4ca4-cad9-91e797c05614",
        "colab": {
          "base_uri": "https://localhost:8080/"
        }
      },
      "source": [
        "alfabeto = ['z','a','c','b','w']\r\n",
        "alfabeto.sort() #per ordinare, la funzione sort\r\n",
        "alfabeto"
      ],
      "execution_count": 5,
      "outputs": [
        {
          "output_type": "execute_result",
          "data": {
            "text/plain": [
              "['a', 'b', 'c', 'w', 'z']"
            ]
          },
          "metadata": {
            "tags": []
          },
          "execution_count": 5
        }
      ]
    },
    {
      "cell_type": "code",
      "metadata": {
        "id": "pTBxXSmdTShS",
        "outputId": "73c92a63-5a70-4572-94a8-be63ab6e110c",
        "colab": {
          "base_uri": "https://localhost:8080/"
        }
      },
      "source": [
        "numeri = [5,2,6,77,1,22]\r\n",
        "numeri.sort(reverse=True) #ordinati al contrario, sort NON gestisce liste miste\r\n",
        "numeri"
      ],
      "execution_count": 7,
      "outputs": [
        {
          "output_type": "execute_result",
          "data": {
            "text/plain": [
              "[77, 22, 6, 5, 2, 1]"
            ]
          },
          "metadata": {
            "tags": []
          },
          "execution_count": 7
        }
      ]
    },
    {
      "cell_type": "code",
      "metadata": {
        "id": "zImbL_M0ThND",
        "outputId": "57e9248f-f5f1-40b3-cbd0-6d5a29aa248c",
        "colab": {
          "base_uri": "https://localhost:8080/"
        }
      },
      "source": [
        "numeri.index(22) #indice del valore"
      ],
      "execution_count": 8,
      "outputs": [
        {
          "output_type": "execute_result",
          "data": {
            "text/plain": [
              "1"
            ]
          },
          "metadata": {
            "tags": []
          },
          "execution_count": 8
        }
      ]
    },
    {
      "cell_type": "code",
      "metadata": {
        "id": "M-b7VIJfTmtT",
        "outputId": "859f97b6-b762-4264-e290-c38de95fe3ef",
        "colab": {
          "base_uri": "https://localhost:8080/"
        }
      },
      "source": [
        "feste = ['capodanno','pasqua','ferragosto','natale']\r\n",
        "feste.insert(1,'carnevale') #funzione per inserire, mettere numero indice e poi il valore\r\n",
        "feste"
      ],
      "execution_count": 9,
      "outputs": [
        {
          "output_type": "execute_result",
          "data": {
            "text/plain": [
              "['capodanno', 'carnevale', 'pasqua', 'ferragosto', 'natale']"
            ]
          },
          "metadata": {
            "tags": []
          },
          "execution_count": 9
        }
      ]
    }
  ]
}