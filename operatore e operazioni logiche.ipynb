{
  "nbformat": 4,
  "nbformat_minor": 0,
  "metadata": {
    "colab": {
      "name": "Un benvenuto a Colaboratory",
      "provenance": [],
      "collapsed_sections": [],
      "include_colab_link": true
    },
    "kernelspec": {
      "display_name": "Python 3",
      "name": "python3"
    }
  },
  "cells": [
    {
      "cell_type": "markdown",
      "metadata": {
        "id": "view-in-github",
        "colab_type": "text"
      },
      "source": [
        "<a href=\"https://colab.research.google.com/github/thorodim/PythonP./blob/main/operatore%20e%20operazioni%20logiche.ipynb\" target=\"_parent\"><img src=\"https://colab.research.google.com/assets/colab-badge.svg\" alt=\"Open In Colab\"/></a>"
      ]
    },
    {
      "cell_type": "code",
      "metadata": {
        "id": "JgqrQNrJQSRO"
      },
      "source": [
        "== #uguale a\r\n",
        "!= # non uguale a\r\n",
        "< #minore a\r\n",
        "> #maggiore a\r\n",
        "<= #minore o uguale a\r\n",
        ">= #maggiore o uguale a"
      ],
      "execution_count": null,
      "outputs": []
    },
    {
      "cell_type": "code",
      "metadata": {
        "id": "a8G7QDkUQKIu",
        "outputId": "024a4e78-5079-457f-9e4c-be44bb0b58f9",
        "colab": {
          "base_uri": "https://localhost:8080/"
        }
      },
      "source": [
        "cancello = True\r\n",
        "cancello = False\r\n",
        "type (cancello)"
      ],
      "execution_count": 7,
      "outputs": [
        {
          "output_type": "execute_result",
          "data": {
            "text/plain": [
              "bool"
            ]
          },
          "metadata": {
            "tags": []
          },
          "execution_count": 7
        }
      ]
    },
    {
      "cell_type": "code",
      "metadata": {
        "id": "r1f7jEcrQOV1",
        "outputId": "06b1779a-f925-4dcb-c7ea-db6aede97017",
        "colab": {
          "base_uri": "https://localhost:8080/"
        }
      },
      "source": [
        "5 == 5  "
      ],
      "execution_count": 8,
      "outputs": [
        {
          "output_type": "execute_result",
          "data": {
            "text/plain": [
              "True"
            ]
          },
          "metadata": {
            "tags": []
          },
          "execution_count": 8
        }
      ]
    },
    {
      "cell_type": "code",
      "metadata": {
        "id": "xgtQBmJ8Qk2u",
        "outputId": "959ba750-3650-403f-ec09-9c67632fd97f",
        "colab": {
          "base_uri": "https://localhost:8080/"
        }
      },
      "source": [
        "2>1 and 5!= 7 #operazione and"
      ],
      "execution_count": 9,
      "outputs": [
        {
          "output_type": "execute_result",
          "data": {
            "text/plain": [
              "True"
            ]
          },
          "metadata": {
            "tags": []
          },
          "execution_count": 9
        }
      ]
    },
    {
      "cell_type": "code",
      "metadata": {
        "id": "rZGTEJc9QqMe",
        "outputId": "1e2bd846-697a-490e-b4cf-c91424e655f6",
        "colab": {
          "base_uri": "https://localhost:8080/"
        }
      },
      "source": [
        "25 >= 25 or 23 <= 25 #operazione or"
      ],
      "execution_count": 10,
      "outputs": [
        {
          "output_type": "execute_result",
          "data": {
            "text/plain": [
              "True"
            ]
          },
          "metadata": {
            "tags": []
          },
          "execution_count": 10
        }
      ]
    },
    {
      "cell_type": "code",
      "metadata": {
        "id": "9S3anO1uQvlG",
        "outputId": "7e345d38-21ab-4a45-d25e-183381ecd222",
        "colab": {
          "base_uri": "https://localhost:8080/"
        }
      },
      "source": [
        "not \"io\" == \"robot\" #operazione not"
      ],
      "execution_count": 11,
      "outputs": [
        {
          "output_type": "execute_result",
          "data": {
            "text/plain": [
              "True"
            ]
          },
          "metadata": {
            "tags": []
          },
          "execution_count": 11
        }
      ]
    }
  ]
}