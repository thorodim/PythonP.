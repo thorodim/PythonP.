{
  "nbformat": 4,
  "nbformat_minor": 0,
  "metadata": {
    "colab": {
      "name": "Un benvenuto a Colaboratory",
      "provenance": [],
      "collapsed_sections": [],
      "toc_visible": true,
      "include_colab_link": true
    },
    "kernelspec": {
      "display_name": "Python 3",
      "name": "python3"
    }
  },
  "cells": [
    {
      "cell_type": "markdown",
      "metadata": {
        "id": "view-in-github",
        "colab_type": "text"
      },
      "source": [
        "<a href=\"https://colab.research.google.com/github/thorodim/PythonP./blob/main/connettivi%20e%20librerie%20funzioni%20connettivi.ipynb\" target=\"_parent\"><img src=\"https://colab.research.google.com/assets/colab-badge.svg\" alt=\"Open In Colab\"/></a>"
      ]
    },
    {
      "cell_type": "code",
      "metadata": {
        "id": "g3UVIrQJJp35",
        "outputId": "01360f7c-11bb-44c5-9714-200cbb542bbd",
        "colab": {
          "base_uri": "https://localhost:8080/"
        }
      },
      "source": [
        "valori_possibili = (False,True) #connettivo OR\r\n",
        "for A in valori_possibili:\r\n",
        "  for B in valori_possibili:\r\n",
        "    print(f'{A} OR {B} = {A or B}')"
      ],
      "execution_count": 1,
      "outputs": [
        {
          "output_type": "stream",
          "text": [
            "False OR False = False\n",
            "False OR True = True\n",
            "True OR False = True\n",
            "True OR True = True\n"
          ],
          "name": "stdout"
        }
      ]
    },
    {
      "cell_type": "code",
      "metadata": {
        "id": "h9QshD98KDF5",
        "outputId": "8c1142c5-2efb-43a9-ed2f-d2b61856355c",
        "colab": {
          "base_uri": "https://localhost:8080/"
        }
      },
      "source": [
        "valori_possibili = (False, True) #connettivo XOR\r\n",
        "for A in valori_possibili:\r\n",
        "  for B in valori_possibili:\r\n",
        "    print(f'{A} XOR {B} = {(not A and B) or (A and not B)}')"
      ],
      "execution_count": 2,
      "outputs": [
        {
          "output_type": "stream",
          "text": [
            "False XOR False = False\n",
            "False XOR True = True\n",
            "True XOR False = True\n",
            "True XOR True = False\n"
          ],
          "name": "stdout"
        }
      ]
    },
    {
      "cell_type": "code",
      "metadata": {
        "id": "QcZNXRwYKYHB"
      },
      "source": [
        "def freccia(ipotesi,tesi): #definizione/creazione \r\n",
        " return (not ipotesi or tesi)"
      ],
      "execution_count": 5,
      "outputs": []
    },
    {
      "cell_type": "code",
      "metadata": {
        "id": "lF3IZms9KlRS",
        "outputId": "7f78b7b7-b40d-414b-81fe-4eb99d4417e9",
        "colab": {
          "base_uri": "https://localhost:8080/"
        }
      },
      "source": [
        "valori_possibili = (False,True) #connettivo -->\r\n",
        "for A in valori_possibili:\r\n",
        "  for B in valori_possibili:\r\n",
        "    print(f'{A} -> {B} = {freccia(A,B)}')"
      ],
      "execution_count": 6,
      "outputs": [
        {
          "output_type": "stream",
          "text": [
            "False -> False = True\n",
            "False -> True = True\n",
            "True -> False = False\n",
            "True -> True = True\n"
          ],
          "name": "stdout"
        }
      ]
    },
    {
      "cell_type": "code",
      "metadata": {
        "id": "QKuv6bQOLAS6",
        "outputId": "949c54f7-1a93-438d-bc2d-663bc8b0d51d",
        "colab": {
          "base_uri": "https://localhost:8080/"
        }
      },
      "source": [
        "valori_possibili = (False,True) #connettivo NOT\r\n",
        "for A in valori_possibili:\r\n",
        "  print(f'Not {A} = {not A}')"
      ],
      "execution_count": 7,
      "outputs": [
        {
          "output_type": "stream",
          "text": [
            "Not False = True\n",
            "Not True = False\n"
          ],
          "name": "stdout"
        }
      ]
    },
    {
      "cell_type": "code",
      "metadata": {
        "id": "Zcw94nsgLPMR"
      },
      "source": [
        "def e(var1,var2): #funzione connettivi\r\n",
        "  return var1 and var2\r\n",
        "def o(var1,var2):\r\n",
        "  return var1 or var2\r\n",
        "def freccia(ipotesi,tesi):\r\n",
        "  return (not ipotesi or tesi)\r\n",
        "def oppure(var1,var2):\r\n",
        "  return (not var1 and var2) or (var1 and not var2)"
      ],
      "execution_count": 8,
      "outputs": []
    },
    {
      "cell_type": "code",
      "metadata": {
        "id": "0JIVs1U2Loga"
      },
      "source": [
        "def stampa_tabella(formula):\r\n",
        "  valori_possibili = (False,True)\r\n",
        "  for A in valori_possibili:\r\n",
        "    for B in valori_possibili:\r\n",
        "      print(f'{formula(A,B)}')"
      ],
      "execution_count": 9,
      "outputs": []
    },
    {
      "cell_type": "code",
      "metadata": {
        "id": "Mw-lA-e1L27h",
        "outputId": "0180fbba-08a5-4ad4-e0cd-2340386fa9f2",
        "colab": {
          "base_uri": "https://localhost:8080/"
        }
      },
      "source": [
        "stampa_tabella(oppure)"
      ],
      "execution_count": 10,
      "outputs": [
        {
          "output_type": "stream",
          "text": [
            "False\n",
            "True\n",
            "True\n",
            "False\n"
          ],
          "name": "stdout"
        }
      ]
    }
  ]
}