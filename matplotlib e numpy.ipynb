{
  "nbformat": 4,
  "nbformat_minor": 0,
  "metadata": {
    "colab": {
      "name": "Un benvenuto a Colaboratory",
      "provenance": [],
      "collapsed_sections": [],
      "toc_visible": true,
      "include_colab_link": true
    },
    "kernelspec": {
      "display_name": "Python 3",
      "name": "python3"
    }
  },
  "cells": [
    {
      "cell_type": "markdown",
      "metadata": {
        "id": "view-in-github",
        "colab_type": "text"
      },
      "source": [
        "<a href=\"https://colab.research.google.com/github/thorodim/PythonP./blob/main/matplotlib%20e%20numpy.ipynb\" target=\"_parent\"><img src=\"https://colab.research.google.com/assets/colab-badge.svg\" alt=\"Open In Colab\"/></a>"
      ]
    },
    {
      "cell_type": "code",
      "metadata": {
        "id": "5RYM25quyWw9"
      },
      "source": [
        "import matplotlib.pyplot as plt #modifica nome col quale la importo. Si usa per disegnare le funzioni\r\n",
        "import numpy as np # per i vettori, le liste, array\r\n",
        "# volendo puoi importare la singola funzione --> from numpy import arange"
      ],
      "execution_count": 17,
      "outputs": []
    },
    {
      "cell_type": "code",
      "metadata": {
        "id": "J-4dKNOZ2P9f",
        "outputId": "49fc8ebb-1e78-46e9-acff-11e75a4d3506",
        "colab": {
          "base_uri": "https://localhost:8080/",
          "height": 562
        }
      },
      "source": [
        "def f(x):\r\n",
        "  return x\r\n",
        "step = 0.5\r\n",
        "inizio = 0.\r\n",
        "fine = 1.\r\n",
        "t1 = np.arange(inizio, fine+step, step) #creazione numpy-array, numpy funzione arange. funzione con 3 ingressi--> inizio/fine/step (di quanto aumenta)\r\n",
        "\r\n",
        "plt.figure()\r\n",
        "plt.title('funzione verità') #modo di stampare una figura con matplotlib\r\n",
        "plt.plot(t1, f(t1), 'ro') #stampa effettiva con parametri, ro è per i punti, ha 3 parametri.\r\n",
        "\r\n",
        "plt.figure()\r\n",
        "plt.title('funzione verità 2')\r\n",
        "plt.plot([0,.5,1], [0,1,0]) #coordinate scritte a mano"
      ],
      "execution_count": 24,
      "outputs": [
        {
          "output_type": "execute_result",
          "data": {
            "text/plain": [
              "[<matplotlib.lines.Line2D at 0x7f629b751dd8>]"
            ]
          },
          "metadata": {
            "tags": []
          },
          "execution_count": 24
        },
        {
          "output_type": "display_data",
          "data": {
            "image/png": "[encoded data removed]",
            "text/plain": [
              "<Figure size 432x288 with 1 Axes>"
            ]
          },
          "metadata": {
            "tags": [],
            "needs_background": "light"
          }
        },
        {
          "output_type": "display_data",
          "data": {
            "image/png": "[encoded data removed]",
            "text/plain": [
              "<Figure size 432x288 with 1 Axes>"
            ]
          },
          "metadata": {
            "tags": [],
            "needs_background": "light"
          }
        }
      ]
    },
    {
      "cell_type": "code",
      "metadata": {
        "id": "nlKPtj65G1QL",
        "outputId": "d057c173-5d55-4043-d7b4-ef7c088acbc5",
        "colab": {
          "base_uri": "https://localhost:8080/"
        }
      },
      "source": [
        "print(t1)"
      ],
      "execution_count": 19,
      "outputs": [
        {
          "output_type": "stream",
          "text": [
            "[0.  0.5 1. ]\n"
          ],
          "name": "stdout"
        }
      ]
    },
    {
      "cell_type": "code",
      "metadata": {
        "id": "aoxlB-DmChGz"
      },
      "source": [
        "dict = {'id' : '45676'} # dizionario ---> chiave/valore"
      ],
      "execution_count": 9,
      "outputs": []
    },
    {
      "cell_type": "code",
      "metadata": {
        "id": "79_7UXGCCu7S",
        "outputId": "b1a8f6a8-40ae-46b7-e7e9-2e437c661a55",
        "colab": {
          "base_uri": "https://localhost:8080/",
          "height": 35
        }
      },
      "source": [
        "dict['id']"
      ],
      "execution_count": 10,
      "outputs": [
        {
          "output_type": "execute_result",
          "data": {
            "application/vnd.google.colaboratory.intrinsic+json": {
              "type": "string"
            },
            "text/plain": [
              "'45676'"
            ]
          },
          "metadata": {
            "tags": []
          },
          "execution_count": 10
        }
      ]
    }
  ]
}