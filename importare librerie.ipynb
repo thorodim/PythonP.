{
  "nbformat": 4,
  "nbformat_minor": 0,
  "metadata": {
    "colab": {
      "name": "Un benvenuto a Colaboratory",
      "provenance": [],
      "collapsed_sections": [],
      "toc_visible": true,
      "include_colab_link": true
    },
    "kernelspec": {
      "display_name": "Python 3",
      "name": "python3"
    }
  },
  "cells": [
    {
      "cell_type": "markdown",
      "metadata": {
        "id": "view-in-github",
        "colab_type": "text"
      },
      "source": [
        "<a href=\"https://colab.research.google.com/github/thorodim/PythonP./blob/main/importare%20librerie.ipynb\" target=\"_parent\"><img src=\"https://colab.research.google.com/assets/colab-badge.svg\" alt=\"Open In Colab\"/></a>"
      ]
    },
    {
      "cell_type": "code",
      "metadata": {
        "id": "a8-RZ900IyW_",
        "outputId": "476b6053-be0a-49c6-aa29-d879c3d02afe",
        "colab": {
          "base_uri": "https://localhost:8080/"
        }
      },
      "source": [
        "#numeri casuali da 1 a 50, la libreria aiuta in ciò\r\n",
        "import random\r\n",
        "for numero in range(10): # 10 cicli, 10 numeri casuali\r\n",
        "  valore = random.randint(1,50)\r\n",
        "  print(valore)"
      ],
      "execution_count": 1,
      "outputs": [
        {
          "output_type": "stream",
          "text": [
            "10\n",
            "34\n",
            "24\n",
            "35\n",
            "11\n",
            "25\n",
            "50\n",
            "34\n",
            "32\n",
            "27\n"
          ],
          "name": "stdout"
        }
      ]
    },
    {
      "cell_type": "code",
      "metadata": {
        "id": "wicKGbEXJvdg",
        "outputId": "0e06004b-8e71-426a-927d-ccb710ce2e2c",
        "colab": {
          "base_uri": "https://localhost:8080/"
        }
      },
      "source": [
        "from math import sqrt #modulo per fare radici quadrate, con questa sintassi non c'è bisogno di richiamare la funzione come fatto sopra\r\n",
        "sqrt (25)\r\n"
      ],
      "execution_count": 3,
      "outputs": [
        {
          "output_type": "execute_result",
          "data": {
            "text/plain": [
              "5.0"
            ]
          },
          "metadata": {
            "tags": []
          },
          "execution_count": 3
        }
      ]
    },
    {
      "cell_type": "code",
      "metadata": {
        "id": "W_Yh3Rg0KEZo"
      },
      "source": [
        "from math import * #tutte le funzioni matematiche\r\n"
      ],
      "execution_count": null,
      "outputs": []
    }
  ]
}