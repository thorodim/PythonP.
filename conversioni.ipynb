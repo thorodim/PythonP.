{
  "nbformat": 4,
  "nbformat_minor": 0,
  "metadata": {
    "colab": {
      "name": "Un benvenuto a Colaboratory",
      "provenance": [],
      "collapsed_sections": [],
      "include_colab_link": true
    },
    "kernelspec": {
      "display_name": "Python 3",
      "name": "python3"
    }
  },
  "cells": [
    {
      "cell_type": "markdown",
      "metadata": {
        "id": "view-in-github",
        "colab_type": "text"
      },
      "source": [
        "<a href=\"https://colab.research.google.com/github/thorodim/PythonP./blob/main/conversioni.ipynb\" target=\"_parent\"><img src=\"https://colab.research.google.com/assets/colab-badge.svg\" alt=\"Open In Colab\"/></a>"
      ]
    },
    {
      "cell_type": "code",
      "metadata": {
        "id": "lblpq7QcPb5O",
        "outputId": "6c1f6d7b-d5d5-42bf-aec5-817ef2871925",
        "colab": {
          "base_uri": "https://localhost:8080/",
          "height": 35
        }
      },
      "source": [
        "età = 24\r\n",
        "testo = 'la mia età è '\r\n",
        "testo + str (età) #conversione int in stringa"
      ],
      "execution_count": 4,
      "outputs": [
        {
          "output_type": "execute_result",
          "data": {
            "application/vnd.google.colaboratory.intrinsic+json": {
              "type": "string"
            },
            "text/plain": [
              "'la mia età è 24'"
            ]
          },
          "metadata": {
            "tags": []
          },
          "execution_count": 4
        }
      ]
    },
    {
      "cell_type": "code",
      "metadata": {
        "id": "SY4aIRNEPuIv",
        "outputId": "f2763589-3320-46c7-8773-5165da5d66ba",
        "colab": {
          "base_uri": "https://localhost:8080/"
        }
      },
      "source": [
        "arance_per_sacco = '27'\r\n",
        "int (arance_per_sacco) * 3 #anche qui conversione da stringa a int"
      ],
      "execution_count": 5,
      "outputs": [
        {
          "output_type": "execute_result",
          "data": {
            "text/plain": [
              "81"
            ]
          },
          "metadata": {
            "tags": []
          },
          "execution_count": 5
        }
      ]
    },
    {
      "cell_type": "code",
      "metadata": {
        "id": "sYsnkZaVP4tG",
        "outputId": "f009f253-ba6a-4b65-f9d0-0474b4e0b63b",
        "colab": {
          "base_uri": "https://localhost:8080/"
        }
      },
      "source": [
        "print (str(33) + ' trentini entrarono a trento ')"
      ],
      "execution_count": 6,
      "outputs": [
        {
          "output_type": "stream",
          "text": [
            "33 trentini entrarono a trento \n"
          ],
          "name": "stdout"
        }
      ]
    }
  ]
}