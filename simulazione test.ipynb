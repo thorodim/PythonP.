{
  "nbformat": 4,
  "nbformat_minor": 0,
  "metadata": {
    "colab": {
      "name": "Un benvenuto a Colaboratory",
      "provenance": [],
      "collapsed_sections": [],
      "toc_visible": true,
      "include_colab_link": true
    },
    "kernelspec": {
      "display_name": "Python 3",
      "name": "python3"
    }
  },
  "cells": [
    {
      "cell_type": "markdown",
      "metadata": {
        "id": "view-in-github",
        "colab_type": "text"
      },
      "source": [
        "<a href=\"https://colab.research.google.com/github/thorodim/PythonP./blob/main/simulazione%20test.ipynb\" target=\"_parent\"><img src=\"https://colab.research.google.com/assets/colab-badge.svg\" alt=\"Open In Colab\"/></a>"
      ]
    },
    {
      "cell_type": "code",
      "metadata": {
        "id": "1MecF0Nez1G8"
      },
      "source": [
        "#simulazione test vitale\r\n",
        "def congiunzione(var1,var2): #se considero due proposizioni vere l'AND è vero\r\n",
        "  return var1 and var2\r\n",
        "\r\n",
        "def alternativa(var1,var2):\r\n",
        "  return var1 or var2\r\n",
        "\r\n",
        "def freccia(ipotesi,tesi):\r\n",
        "  return (not ipotesi or tesi)\r\n",
        "\r\n",
        "def oppure(var1,var2):\r\n",
        "  return (not var1 and var2) or (var1 and not var2)"
      ],
      "execution_count": 6,
      "outputs": []
    },
    {
      "cell_type": "markdown",
      "metadata": {
        "id": "M1IrbyZs3z8d"
      },
      "source": [
        "Questa sotto è la funzione per stampare le/la tabella di verità nella logica classica, non fuzzy"
      ]
    },
    {
      "cell_type": "code",
      "metadata": {
        "id": "dF6aKAeQ2mfL"
      },
      "source": [
        "def stampa_tabella(formula):\r\n",
        "  valori_possibili = (0, 1) \r\n",
        "\r\n",
        "  for A in valori_possibili:\r\n",
        "    for B in valori_possibili:\r\n",
        "      print(f'{formula(A,B)}')"
      ],
      "execution_count": 10,
      "outputs": []
    },
    {
      "cell_type": "code",
      "metadata": {
        "id": "eGeCGUBd2-QF",
        "outputId": "365badaf-74d0-4ba2-b718-f8299d150d5a",
        "colab": {
          "base_uri": "https://localhost:8080/"
        }
      },
      "source": [
        "stampa_tabella(oppure)"
      ],
      "execution_count": 15,
      "outputs": [
        {
          "output_type": "stream",
          "text": [
            "0\n",
            "1\n",
            "True\n",
            "False\n"
          ],
          "name": "stdout"
        }
      ]
    }
  ]
}