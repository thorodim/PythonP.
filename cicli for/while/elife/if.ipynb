{
  "nbformat": 4,
  "nbformat_minor": 0,
  "metadata": {
    "colab": {
      "name": "Un benvenuto a Colaboratory",
      "provenance": [],
      "collapsed_sections": [],
      "toc_visible": true,
      "include_colab_link": true
    },
    "kernelspec": {
      "display_name": "Python 3",
      "name": "python3"
    }
  },
  "cells": [
    {
      "cell_type": "markdown",
      "metadata": {
        "id": "view-in-github",
        "colab_type": "text"
      },
      "source": [
        "<a href=\"https://colab.research.google.com/github/thorodim/PythonP./blob/main/cicli%20for/while/elife/if.ipynb\" target=\"_parent\"><img src=\"https://colab.research.google.com/assets/colab-badge.svg\" alt=\"Open In Colab\"/></a>"
      ]
    },
    {
      "cell_type": "code",
      "metadata": {
        "id": "niQvqE_c0XPf",
        "outputId": "1e73cf1d-fe3c-4bd4-f156-e114d8613757",
        "colab": {
          "base_uri": "https://localhost:8080/"
        }
      },
      "source": [
        "età = 24\r\n",
        "if età >= 18:\r\n",
        "  print ('sei maggiorenne') #ciclo controllo if, definita dall'indentazione\r\n",
        "else:\r\n",
        "    print ('sei minorenne') #\"altrimenti\" digli che è minorenne"
      ],
      "execution_count": 7,
      "outputs": [
        {
          "output_type": "stream",
          "text": [
            "sei maggiorenne\n"
          ],
          "name": "stdout"
        }
      ]
    },
    {
      "cell_type": "code",
      "metadata": {
        "id": "BygCqo_90j1s",
        "outputId": "a56af3de-f47a-4095-86b2-fe2adb2670f0",
        "colab": {
          "base_uri": "https://localhost:8080/"
        }
      },
      "source": [
        "età = 16\r\n",
        "patente = False\r\n",
        "if età >= 18 and patente == True:\r\n",
        "  print('puoi noleggiare una ferrari!')\r\n",
        "elif età >= 18 and patente == False: #else if\r\n",
        "    print('niente patente, niente ferrari!')\r\n",
        "else:\r\n",
        "  print('ne riparliamo fra qualche anno') #passa direttamente qui il controllo, poichè ha 16 anni"
      ],
      "execution_count": 8,
      "outputs": [
        {
          "output_type": "stream",
          "text": [
            "ne riparliamo fra qualche anno\n"
          ],
          "name": "stdout"
        }
      ]
    },
    {
      "cell_type": "code",
      "metadata": {
        "id": "pxfJtbkE3v3e",
        "outputId": "57ca2c7b-00c7-4f3e-f7ae-c6ef853e07f4",
        "colab": {
          "base_uri": "https://localhost:8080/"
        }
      },
      "source": [
        "contatore = 0\r\n",
        "while contatore <= 10:\r\n",
        "  print(contatore)\r\n",
        "  contatore = contatore + 1 #ciclo while, ripete l'azione fino al verificarsi della condizione. Si lega alle azioni \"break\" e \"continue\""
      ],
      "execution_count": 16,
      "outputs": [
        {
          "output_type": "stream",
          "text": [
            "0\n",
            "1\n",
            "2\n",
            "3\n",
            "4\n",
            "5\n",
            "6\n",
            "7\n",
            "8\n",
            "9\n",
            "10\n"
          ],
          "name": "stdout"
        }
      ]
    },
    {
      "cell_type": "code",
      "metadata": {
        "id": "E0bDM4pr5rko",
        "outputId": "1cd8b51a-8589-4c34-b49d-faebfdc5d67f",
        "colab": {
          "base_uri": "https://localhost:8080/"
        }
      },
      "source": [
        "contatore = 0\r\n",
        "while True:\r\n",
        "  print(contatore)\r\n",
        "  contatore += 1 #abbreviazione di contatore = contatore + 1\r\n",
        "  if contatore > 10:\r\n",
        "    print('stò uscendo dal loop')\r\n",
        "    break #per rompere un ipotetico ciclo infinito, per chiudere le iterazioni"
      ],
      "execution_count": 17,
      "outputs": [
        {
          "output_type": "stream",
          "text": [
            "0\n",
            "1\n",
            "2\n",
            "3\n",
            "4\n",
            "5\n",
            "6\n",
            "7\n",
            "8\n",
            "9\n",
            "10\n",
            "stò uscendo dal loop\n"
          ],
          "name": "stdout"
        }
      ]
    },
    {
      "cell_type": "code",
      "metadata": {
        "id": "DUFc1a-36NoP",
        "outputId": "4b34e6a9-f6da-46f5-9611-9c49410f16af",
        "colab": {
          "base_uri": "https://localhost:8080/"
        }
      },
      "source": [
        "contatore = 0\r\n",
        "while contatore < 10:\r\n",
        "  contatore += 1\r\n",
        "  if contatore == 3:\r\n",
        "    print ('valore saltato')\r\n",
        "    continue #per ritornare all'inizio e ripetere l'iterazione\r\n",
        "  print (contatore)"
      ],
      "execution_count": 23,
      "outputs": [
        {
          "output_type": "stream",
          "text": [
            "1\n",
            "2\n",
            "valore saltato\n",
            "4\n",
            "5\n",
            "6\n",
            "7\n",
            "8\n",
            "9\n",
            "10\n"
          ],
          "name": "stdout"
        }
      ]
    },
    {
      "cell_type": "code",
      "metadata": {
        "id": "vpH5VaKH7CGY",
        "outputId": "f180837d-45bf-484f-848b-ee7a5ccb8bcc",
        "colab": {
          "base_uri": "https://localhost:8080/"
        }
      },
      "source": [
        "for numero in range(11): #ciclo for, in taluni casi meglio del while (ha una funzione simile)\r\n",
        "  print(numero)\r\n"
      ],
      "execution_count": 24,
      "outputs": [
        {
          "output_type": "stream",
          "text": [
            "0\n",
            "1\n",
            "2\n",
            "3\n",
            "4\n",
            "5\n",
            "6\n",
            "7\n",
            "8\n",
            "9\n",
            "10\n"
          ],
          "name": "stdout"
        }
      ]
    },
    {
      "cell_type": "code",
      "metadata": {
        "id": "OcFaRrAa8eLQ",
        "outputId": "a1ca2a7d-cfcc-4a12-93f2-61c8b6bcf543",
        "colab": {
          "base_uri": "https://localhost:8080/"
        }
      },
      "source": [
        "for numero in range(3,11,2): #da 3 a 11, andando coi numeri a 2 a 2\r\n",
        "  print(numero)"
      ],
      "execution_count": 25,
      "outputs": [
        {
          "output_type": "stream",
          "text": [
            "3\n",
            "5\n",
            "7\n",
            "9\n"
          ],
          "name": "stdout"
        }
      ]
    },
    {
      "cell_type": "code",
      "metadata": {
        "id": "syZ4eLud8woG",
        "outputId": "26565a22-52dd-4589-c1af-e1e0059d4404",
        "colab": {
          "base_uri": "https://localhost:8080/"
        }
      },
      "source": [
        "for numero in range (10,0,-1): #stessa cosa, ma al contrario\r\n",
        "  print(numero)"
      ],
      "execution_count": 26,
      "outputs": [
        {
          "output_type": "stream",
          "text": [
            "10\n",
            "9\n",
            "8\n",
            "7\n",
            "6\n",
            "5\n",
            "4\n",
            "3\n",
            "2\n",
            "1\n"
          ],
          "name": "stdout"
        }
      ]
    }
  ]
}