{
  "nbformat": 4,
  "nbformat_minor": 0,
  "metadata": {
    "colab": {
      "name": "Un benvenuto a Colaboratory",
      "provenance": [],
      "collapsed_sections": [],
      "toc_visible": true,
      "include_colab_link": true
    },
    "kernelspec": {
      "display_name": "Python 3",
      "name": "python3"
    }
  },
  "cells": [
    {
      "cell_type": "markdown",
      "metadata": {
        "id": "view-in-github",
        "colab_type": "text"
      },
      "source": [
        "<a href=\"https://colab.research.google.com/github/thorodim/PythonP./blob/main/liste%20e%20stringhe.ipynb\" target=\"_parent\"><img src=\"https://colab.research.google.com/assets/colab-badge.svg\" alt=\"Open In Colab\"/></a>"
      ]
    },
    {
      "cell_type": "code",
      "metadata": {
        "id": "aRYYuf9qp1lN",
        "outputId": "5a479584-1f40-4a31-ecfd-49b23037eaa1",
        "colab": {
          "base_uri": "https://localhost:8080/"
        }
      },
      "source": [
        "spam = 'la pratica '\r\n",
        "eggs = 'rende perfetti '\r\n",
        "spam + eggs # somma stringhe\r\n",
        "spam * 3 #moltiplica stringhe\r\n",
        "a = [1,2,'tre']\r\n",
        "b = [4,5,6]\r\n",
        "a + b #somma di liste\r\n",
        "a * 3 #moltiplica liste\r\n",
        "len(spam) #lunghezza di \"elemento\"\r\n"
      ],
      "execution_count": 53,
      "outputs": [
        {
          "output_type": "execute_result",
          "data": {
            "text/plain": [
              "11"
            ]
          },
          "metadata": {
            "tags": []
          },
          "execution_count": 53
        }
      ]
    },
    {
      "cell_type": "code",
      "metadata": {
        "id": "AwvTSuOvqWhO",
        "outputId": "557e4a92-cb4b-41ce-ba01-18657ef78a9c",
        "colab": {
          "base_uri": "https://localhost:8080/"
        }
      },
      "source": [
        "a = [1,2,3,4]\r\n",
        "b = 'qwerty'\r\n",
        "1 in a #restituisce valori booleani, vede se c'è quel dato elemento in data variabile\r\n",
        "6 in a\r\n",
        "'q' in b\r\n",
        "'z' in b\r\n"
      ],
      "execution_count": 57,
      "outputs": [
        {
          "output_type": "execute_result",
          "data": {
            "text/plain": [
              "False"
            ]
          },
          "metadata": {
            "tags": []
          },
          "execution_count": 57
        }
      ]
    },
    {
      "cell_type": "code",
      "metadata": {
        "id": "IrtIJv7IqmKO",
        "outputId": "8efd9a08-fde9-4eb5-d326-9f751b540d38",
        "colab": {
          "base_uri": "https://localhost:8080/",
          "height": 214
        }
      },
      "source": [
        "alfa = 'abcdefghijklm' #per capovolgere stringa\r\n",
        "def reverser(stringa):\r\n",
        "  indice = (len(stringa) - 1)\r\n",
        "  nuova_stringa= ''\r\n",
        "  while indice >= 0:\r\n",
        "    nuova_stringa += stringa[indice]\r\n",
        "    indice -= 1\r\n",
        "  print(nuova_stringa)\r\n",
        "reverser(alfa)"
      ],
      "execution_count": 62,
      "outputs": [
        {
          "output_type": "stream",
          "text": [
            "mlkjihgfedcba\n"
          ],
          "name": "stdout"
        },
        {
          "output_type": "error",
          "ename": "NameError",
          "evalue": "ignored",
          "traceback": [
            "\u001b[0;31m---------------------------------------------------------------------------\u001b[0m",
            "\u001b[0;31mNameError\u001b[0m                                 Traceback (most recent call last)",
            "\u001b[0;32m<ipython-input-62-b6e498d40276>\u001b[0m in \u001b[0;36m<module>\u001b[0;34m()\u001b[0m\n\u001b[1;32m      8\u001b[0m   \u001b[0mprint\u001b[0m\u001b[0;34m(\u001b[0m\u001b[0mnuova_stringa\u001b[0m\u001b[0;34m)\u001b[0m\u001b[0;34m\u001b[0m\u001b[0;34m\u001b[0m\u001b[0m\n\u001b[1;32m      9\u001b[0m \u001b[0mreverser\u001b[0m\u001b[0;34m(\u001b[0m\u001b[0malfa\u001b[0m\u001b[0;34m)\u001b[0m\u001b[0;34m\u001b[0m\u001b[0;34m\u001b[0m\u001b[0m\n\u001b[0;32m---> 10\u001b[0;31m \u001b[0mlist\u001b[0m\u001b[0;34m(\u001b[0m\u001b[0mstringa\u001b[0m\u001b[0;34m)\u001b[0m\u001b[0;34m\u001b[0m\u001b[0;34m\u001b[0m\u001b[0m\n\u001b[0m",
            "\u001b[0;31mNameError\u001b[0m: name 'stringa' is not defined"
          ]
        }
      ]
    }
  ]
}