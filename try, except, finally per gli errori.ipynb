{
  "nbformat": 4,
  "nbformat_minor": 0,
  "metadata": {
    "colab": {
      "name": "Un benvenuto a Colaboratory",
      "provenance": [],
      "collapsed_sections": [],
      "toc_visible": true,
      "include_colab_link": true
    },
    "kernelspec": {
      "display_name": "Python 3",
      "name": "python3"
    }
  },
  "cells": [
    {
      "cell_type": "markdown",
      "metadata": {
        "id": "view-in-github",
        "colab_type": "text"
      },
      "source": [
        "<a href=\"https://colab.research.google.com/github/thorodim/PythonP./blob/main/try%2C%20except%2C%20finally%20per%20gli%20errori.ipynb\" target=\"_parent\"><img src=\"https://colab.research.google.com/assets/colab-badge.svg\" alt=\"Open In Colab\"/></a>"
      ]
    },
    {
      "cell_type": "code",
      "metadata": {
        "id": "wAatt3hjZ2dw",
        "outputId": "de8d69d3-8f08-4f85-8c15-045b4c5257cc",
        "colab": {
          "base_uri": "https://localhost:8080/"
        }
      },
      "source": [
        "# try --> esegui se non accade nessun errore\r\n",
        " # except --> esegui solo se si verifica errore\r\n",
        "def divisore(a,b):\r\n",
        "  try:\r\n",
        "    risultato = a / b\r\n",
        "    print(\"il risultato della divisione è: \" + str(risultato))\r\n",
        "  except ZeroDivisionError: #esegui il codice dopo, solo se si verifica questo errore\r\n",
        "      print ('hai effettuato una divisione per zero causando un errore')\r\n",
        "divisore (9,3) #prima divisione\r\n",
        "divisore(5,0) #seconda divisione, errore"
      ],
      "execution_count": 22,
      "outputs": [
        {
          "output_type": "stream",
          "text": [
            "il risultato della divisione è: 3.0\n",
            "hai effettuato una divisione per zero causando un errore\n"
          ],
          "name": "stdout"
        }
      ]
    },
    {
      "cell_type": "code",
      "metadata": {
        "id": "vaUeGx9WcVnL",
        "outputId": "3f955e8b-cc31-4dd9-a67d-875708db62f6",
        "colab": {
          "base_uri": "https://localhost:8080/"
        }
      },
      "source": [
        "# finally --> infine, alla fine\r\n",
        "def moltiplicatore():\r\n",
        "  try:\r\n",
        "    a = int (input('inserisci il valore numero 1 '))\r\n",
        "    b = int (input('inserisci il valore numero 2 '))\r\n",
        "    risultato = a * b\r\n",
        "    print(risultato)\r\n",
        "  except ValueError:\r\n",
        "    print('Solo numeri per favore')\r\n",
        "  finally:\r\n",
        "    print('Grazie per aver utilizzato questa applicazione')\r\n",
        "moltiplicatore()"
      ],
      "execution_count": 26,
      "outputs": [
        {
          "output_type": "stream",
          "text": [
            "inserisci il valore numero 1 1\n",
            "inserisci il valore numero 2 3\n",
            "3\n",
            "Grazie per aver utilizzato questa applicazione\n"
          ],
          "name": "stdout"
        }
      ]
    }
  ]
}