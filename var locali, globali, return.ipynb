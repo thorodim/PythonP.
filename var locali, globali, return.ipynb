{
  "nbformat": 4,
  "nbformat_minor": 0,
  "metadata": {
    "colab": {
      "name": "Un benvenuto a Colaboratory",
      "provenance": [],
      "collapsed_sections": [],
      "toc_visible": true,
      "include_colab_link": true
    },
    "kernelspec": {
      "display_name": "Python 3",
      "name": "python3"
    }
  },
  "cells": [
    {
      "cell_type": "markdown",
      "metadata": {
        "id": "view-in-github",
        "colab_type": "text"
      },
      "source": [
        "<a href=\"https://colab.research.google.com/github/thorodim/PythonP./blob/main/var%20locali%2C%20globali%2C%20return.ipynb\" target=\"_parent\"><img src=\"https://colab.research.google.com/assets/colab-badge.svg\" alt=\"Open In Colab\"/></a>"
      ]
    },
    {
      "cell_type": "code",
      "metadata": {
        "id": "AwwsWgwbWt0O",
        "outputId": "0b1d5f36-d393-4cf2-aea8-26a762cd70a6",
        "colab": {
          "base_uri": "https://localhost:8080/"
        }
      },
      "source": [
        "x = 3\r\n",
        "x +=1\r\n",
        "x"
      ],
      "execution_count": 3,
      "outputs": [
        {
          "output_type": "execute_result",
          "data": {
            "text/plain": [
              "4"
            ]
          },
          "metadata": {
            "tags": []
          },
          "execution_count": 3
        }
      ]
    },
    {
      "cell_type": "code",
      "metadata": {
        "id": "qImahR4RW373",
        "outputId": "f6200f37-c04c-430c-ceb1-60b7c03b766a",
        "colab": {
          "base_uri": "https://localhost:8080/"
        }
      },
      "source": [
        "x = 15 #var globale\r\n",
        "def funzione_esempio():\r\n",
        "  # x += 2 ---> qui la var sarebbe locale#\r\n",
        "  return (x)\r\n",
        "print(funzione_esempio())"
      ],
      "execution_count": 8,
      "outputs": [
        {
          "output_type": "stream",
          "text": [
            "15\n"
          ],
          "name": "stdout"
        }
      ]
    },
    {
      "cell_type": "code",
      "metadata": {
        "id": "WewGqrJMXOkO",
        "outputId": "c68d58a2-8a03-4899-92a0-978ebc2c737e",
        "colab": {
          "base_uri": "https://localhost:8080/"
        }
      },
      "source": [
        "x = 15\r\n",
        "def funzione_esempio():\r\n",
        "  global x #gli dico che mi riferisco alla var globale\r\n",
        "  x += 2\r\n",
        "  return(x)\r\n",
        "print (funzione_esempio())"
      ],
      "execution_count": 9,
      "outputs": [
        {
          "output_type": "stream",
          "text": [
            "17\n"
          ],
          "name": "stdout"
        }
      ]
    },
    {
      "cell_type": "code",
      "metadata": {
        "id": "ZEdvGZ3SYWng",
        "outputId": "18b1e933-e152-4beb-b5c1-9e919d0fe3f8",
        "colab": {
          "base_uri": "https://localhost:8080/"
        }
      },
      "source": [
        "x = 15\r\n",
        "def funzione_esempio():\r\n",
        "  y = x\r\n",
        "  y += 2\r\n",
        "  return(y)\r\n",
        "print (funzione_esempio())"
      ],
      "execution_count": 14,
      "outputs": [
        {
          "output_type": "stream",
          "text": [
            "17\n"
          ],
          "name": "stdout"
        }
      ]
    },
    {
      "cell_type": "code",
      "metadata": {
        "id": "EnOf5sUUZHnw",
        "outputId": "2bf40a5e-32a9-4cbb-b27e-67d0d2dfd872",
        "colab": {
          "base_uri": "https://localhost:8080/"
        }
      },
      "source": [
        "def mia_funzione():\r\n",
        "  spam = 24\r\n",
        "  return (spam) #si possono utilizzare le var di una funzione solo se passate dal \"return\" della funzione stessa\r\n",
        "\r\n",
        "eggs = mia_funzione() + 6\r\n",
        "print (eggs)"
      ],
      "execution_count": 15,
      "outputs": [
        {
          "output_type": "stream",
          "text": [
            "30\n"
          ],
          "name": "stdout"
        }
      ]
    }
  ]
}