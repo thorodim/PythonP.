{
  "nbformat": 4,
  "nbformat_minor": 0,
  "metadata": {
    "colab": {
      "name": "Un benvenuto a Colaboratory",
      "provenance": [],
      "collapsed_sections": [],
      "toc_visible": true,
      "include_colab_link": true
    },
    "kernelspec": {
      "display_name": "Python 3",
      "name": "python3"
    }
  },
  "cells": [
    {
      "cell_type": "markdown",
      "metadata": {
        "id": "view-in-github",
        "colab_type": "text"
      },
      "source": [
        "<a href=\"https://colab.research.google.com/github/thorodim/PythonP./blob/main/secondo%20pezzo%20test%20esame.ipynb\" target=\"_parent\"><img src=\"https://colab.research.google.com/assets/colab-badge.svg\" alt=\"Open In Colab\"/></a>"
      ]
    },
    {
      "cell_type": "code",
      "metadata": {
        "id": "AXd8_K8OvNJX"
      },
      "source": [
        "def congiunzione(var1,var2):\r\n",
        "  return var1 and var2\r\n",
        "\r\n",
        "def disgiunzione(var1,var2,logica):\r\n",
        " if logica == 'Boole':\r\n",
        "  return var1 or var2\r\n",
        " else:\r\n",
        "   return max(var1, var2)\r\n",
        "\r\n",
        "def implicazione(var1,var2,logica):\r\n",
        "  if logica == 'Boole':\r\n",
        "   return int (not var1 or var2)\r\n",
        "  else:\r\n",
        "    return min(1, 1 - var1 + var2)\r\n",
        "\r\n",
        "def equivalenza(var1,var2,logica):\r\n",
        "  if logica == 'Boole':\r\n",
        "   return int (not var1 and var2) or int (var1 and not var2)\r\n",
        "  else:\r\n",
        "    return  1 - abs(var1 - var2)"
      ],
      "execution_count": 120,
      "outputs": []
    },
    {
      "cell_type": "code",
      "metadata": {
        "id": "MhYi60RZwGzt"
      },
      "source": [
        "def stampa_tabella(formula):\r\n",
        "  logic = input('Dammi La logica da Considerare --> Boole, Lukasiewicz ')\r\n",
        "  while logic != 'Boole' and logic != 'Lukasiewicz':\r\n",
        "    print('La Logica Selezionata non è valida')\r\n",
        "    logic = input('Dammi La logica da Considerare --> Boole, Lukasiewicz ')\r\n",
        "  valori = (0,1)\r\n",
        "  for A in valori:\r\n",
        "    for B in valori:\r\n",
        "      print(f' {A} | {B} | = {formula(A,B,logic)}')"
      ],
      "execution_count": 117,
      "outputs": []
    },
    {
      "cell_type": "code",
      "metadata": {
        "colab": {
          "base_uri": "https://localhost:8080/"
        },
        "id": "EGLZJrGiwKpq",
        "outputId": "b0e2ae68-6a7f-4171-fbcb-fc0464bdd7ae"
      },
      "source": [
        "stampa_tabella(implicazione)"
      ],
      "execution_count": 122,
      "outputs": [
        {
          "output_type": "stream",
          "text": [
            "Dammi La logica da Considerare --> Boole, Lukasiewicz Lukasiewicz\n",
            " 0 | 0 | = 1\n",
            " 0 | 1 | = 1\n",
            " 1 | 0 | = 0\n",
            " 1 | 1 | = 1\n"
          ],
          "name": "stdout"
        }
      ]
    }
  ]
}